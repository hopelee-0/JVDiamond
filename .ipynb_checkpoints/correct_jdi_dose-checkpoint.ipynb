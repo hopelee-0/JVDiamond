{
 "cells": [
  {
   "cell_type": "code",
   "execution_count": 1,
   "id": "bdfacf64",
   "metadata": {},
   "outputs": [
    {
     "name": "stdout",
     "output_type": "stream",
     "text": [
      "number of entries: 35\n",
      "[0.0, 5.1, 6.2, 7.2, 8.3, 9.4, 10.5, 11.6, 12.7, 13.8, 14.9, 16.1, 17.3, 18.4, 19.6, 20.8, 22.0, 23.2, 24.5, 25.7, 27.0, 28.2, 29.5, 30.0, 30.8, 32.1, 33.5, 34.8, 36.1, 37.5, 38.9, 40.3, 41.7, 43.1, 44.5]\n",
      "\n",
      "file content:\n",
      "MOD001: MODULAT (( 0,  0.0 ) , ( 1,  5.1 ) , ( 2,  6.2 )\n",
      "-     , ( 3,  7.2 ) , ( 4,  8.3 ) , ( 5,  9.4 )\n",
      "-     , ( 6, 10.5 ) , ( 7, 11.6 ) , ( 8, 12.7 )\n",
      "-     , ( 9, 13.8 ) , ( 10, 14.9 ) , ( 11, 16.1 )\n",
      "-     , ( 12, 17.3 ) , ( 13, 18.4 ) , ( 14, 19.6 )\n",
      "-     , ( 15, 20.8 ) , ( 16, 22.0 ) , ( 17, 23.2 )\n",
      "-     , ( 18, 24.5 ) , ( 19, 25.7 ) , ( 20, 27.0 )\n",
      "-     , ( 21, 28.2 ) , ( 22, 29.5 ) , ( 23, 30.0 )\n",
      "-     , ( 24, 30.8 ) , ( 25, 32.1 ) , ( 26, 33.5 )\n",
      "-     , ( 27, 34.8 ) , ( 28, 36.1 ) , ( 29, 37.5 )\n",
      "-     , ( 30, 38.9 ) , ( 31, 40.3 ) , ( 32, 41.7 )\n",
      "-     , ( 33, 43.1 ) , ( 34, 44.5 ))\n",
      "\n",
      "; SCAN_STEP = 0.005000\n",
      "; MINIMAL_RESOLUTION = 0.001000\n",
      "; MACHINE_TYPE = JBX-6300FS\n",
      "; DIGITAL_SCALING = 1.000000\n",
      "; MAXIMUM_BEAMSIZE = 2000\n",
      "; SHOT_SHIFT_COUNT = 1\n",
      "; OVERLAP_COUNT = 1\n",
      "; INCREMENT_SCANNER_DATA_UNIT = 1\n",
      "; SUBFIELD_SORTING_DIRECTION = YZIG\n",
      "; PATTERN_SORTING_DIRECTION = XZIG\n",
      "; PATTERN_WRITING_UNIT_TYPE = POSSET\n",
      "\n"
     ]
    }
   ],
   "source": [
    "filenamejdi='220726_AR01_4.jdi'\n",
    "# f.split('))')[0] -> delete everything after '))'\n",
    "# .split(')') split in entries that are separated by ')'\n",
    "# txtline.strip() -> remove leading and trailing spaces\n",
    "#.split(',')[-1] -> split entries with ',' separator and use last entry [-1] corresponding to dose percentage\n",
    "#.strip()  -> remove leading and trailing spaces\n",
    "\n",
    "f = open(filenamejdi)\n",
    "txtcrp=f.read().split('))')[0].split(')')\n",
    "i=0\n",
    "doseprc=[]\n",
    "for txtline in txtcrp:\n",
    "    doseprc.append(float(txtline.strip().split(',')[-1].strip()))   \n",
    "    i+=1\n",
    "f.close()\n",
    "print('number of entries: '+str(i)) # number of entries\n",
    "print(doseprc) # entries\n",
    "f = open(filenamejdi)\n",
    "print('\\n'+'file content:'+'\\n'+f.read())\n",
    "f.close()"
   ]
  },
  {
   "cell_type": "code",
   "execution_count": 2,
   "id": "8916ca79",
   "metadata": {
    "scrolled": true
   },
   "outputs": [],
   "source": [
    "#for ZEP\n",
    "bd=175\n",
    "for i in range(4):\n",
    "    nbd=round(bd+i*25) #new base dose\n",
    "    doseprcnew=[]\n",
    "    for i in range(len(doseprc)):\n",
    "        doseprcnew.append(round(((doseprc[i]/100+1)*nbd/bd-1)*100,1))\n",
    "    #print(\"new dose array:\\n\"+str(doseprcnew))\n",
    "    #print(\"prev dose array:\\n\"+str(doseprc))\n",
    "    txtjdi=\"M4\"+str(nbd)+\": MODULAT (\"\n",
    "    for i in range(len(doseprcnew)-1):\n",
    "        txtjdi=txtjdi+\"(\"+str(i)+\", \"+str(doseprcnew[i])+\") , \"\n",
    "    txtjdi=txtjdi+\"(\"+str(len(doseprcnew)-1)+\", \"+str(doseprcnew[len(doseprcnew)-1])+\"))\"\n",
    "    #print(\"new .jdi text:\\n\"+txtjdi)\n",
    "    f = open(\"Z\"+filenamejdi,'a')\n",
    "    f.write(txtjdi+\"\\n\\n\")\n",
    "    f.close()"
   ]
  },
  {
   "cell_type": "code",
   "execution_count": 3,
   "id": "2289c53a",
   "metadata": {},
   "outputs": [
    {
     "name": "stdout",
     "output_type": "stream",
     "text": [
      "\n",
      "file content:\n",
      "M4175: MODULAT ((0, 0.0) , (1, 5.1) , (2, 6.2) , (3, 7.2) , (4, 8.3) , (5, 9.4) , (6, 10.5) , (7, 11.6) , (8, 12.7) , (9, 13.8) , (10, 14.9) , (11, 16.1) , (12, 17.3) , (13, 18.4) , (14, 19.6) , (15, 20.8) , (16, 22.0) , (17, 23.2) , (18, 24.5) , (19, 25.7) , (20, 27.0) , (21, 28.2) , (22, 29.5) , (23, 30.0) , (24, 30.8) , (25, 32.1) , (26, 33.5) , (27, 34.8) , (28, 36.1) , (29, 37.5) , (30, 38.9) , (31, 40.3) , (32, 41.7) , (33, 43.1) , (34, 44.5))\n",
      "\n",
      "M4200: MODULAT ((0, 14.3) , (1, 20.1) , (2, 21.4) , (3, 22.5) , (4, 23.8) , (5, 25.0) , (6, 26.3) , (7, 27.5) , (8, 28.8) , (9, 30.1) , (10, 31.3) , (11, 32.7) , (12, 34.1) , (13, 35.3) , (14, 36.7) , (15, 38.1) , (16, 39.4) , (17, 40.8) , (18, 42.3) , (19, 43.7) , (20, 45.1) , (21, 46.5) , (22, 48.0) , (23, 48.6) , (24, 49.5) , (25, 51.0) , (26, 52.6) , (27, 54.1) , (28, 55.5) , (29, 57.1) , (30, 58.7) , (31, 60.3) , (32, 61.9) , (33, 63.5) , (34, 65.1))\n",
      "\n",
      "M4225: MODULAT ((0, 28.6) , (1, 35.1) , (2, 36.5) , (3, 37.8) , (4, 39.2) , (5, 40.7) , (6, 42.1) , (7, 43.5) , (8, 44.9) , (9, 46.3) , (10, 47.7) , (11, 49.3) , (12, 50.8) , (13, 52.2) , (14, 53.8) , (15, 55.3) , (16, 56.9) , (17, 58.4) , (18, 60.1) , (19, 61.6) , (20, 63.3) , (21, 64.8) , (22, 66.5) , (23, 67.1) , (24, 68.2) , (25, 69.8) , (26, 71.6) , (27, 73.3) , (28, 75.0) , (29, 76.8) , (30, 78.6) , (31, 80.4) , (32, 82.2) , (33, 84.0) , (34, 85.8))\n",
      "\n",
      "M4250: MODULAT ((0, 42.9) , (1, 50.1) , (2, 51.7) , (3, 53.1) , (4, 54.7) , (5, 56.3) , (6, 57.9) , (7, 59.4) , (8, 61.0) , (9, 62.6) , (10, 64.1) , (11, 65.9) , (12, 67.6) , (13, 69.1) , (14, 70.9) , (15, 72.6) , (16, 74.3) , (17, 76.0) , (18, 77.9) , (19, 79.6) , (20, 81.4) , (21, 83.1) , (22, 85.0) , (23, 85.7) , (24, 86.9) , (25, 88.7) , (26, 90.7) , (27, 92.6) , (28, 94.4) , (29, 96.4) , (30, 98.4) , (31, 100.4) , (32, 102.4) , (33, 104.4) , (34, 106.4))\n",
      "\n",
      "\n"
     ]
    }
   ],
   "source": [
    "f = open(\"Z\"+filenamejdi)\n",
    "print('\\n'+'file content:'+'\\n'+f.read())\n",
    "f.close()"
   ]
  },
  {
   "cell_type": "code",
   "execution_count": null,
   "id": "43c35d59",
   "metadata": {},
   "outputs": [],
   "source": []
  }
 ],
 "metadata": {
  "kernelspec": {
   "display_name": "Python 3",
   "language": "python",
   "name": "python3"
  },
  "language_info": {
   "codemirror_mode": {
    "name": "ipython",
    "version": 3
   },
   "file_extension": ".py",
   "mimetype": "text/x-python",
   "name": "python",
   "nbconvert_exporter": "python",
   "pygments_lexer": "ipython3",
   "version": "3.7.13"
  }
 },
 "nbformat": 4,
 "nbformat_minor": 5
}
